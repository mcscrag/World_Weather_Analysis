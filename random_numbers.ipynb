{
 "cells": [
  {
   "cell_type": "code",
   "execution_count": 1,
   "id": "eda7db02",
   "metadata": {},
   "outputs": [],
   "source": [
    "# import the random module.\n",
    "\n",
    "import random"
   ]
  },
  {
   "cell_type": "code",
   "execution_count": 2,
   "id": "07d95c9c",
   "metadata": {},
   "outputs": [
    {
     "data": {
      "text/plain": [
       "28"
      ]
     },
     "execution_count": 2,
     "metadata": {},
     "output_type": "execute_result"
    }
   ],
   "source": [
    "random.randint(-90,90)"
   ]
  },
  {
   "cell_type": "code",
   "execution_count": 4,
   "id": "9b20eb3f",
   "metadata": {},
   "outputs": [
    {
     "data": {
      "text/plain": [
       "0.5048047612121058"
      ]
     },
     "execution_count": 4,
     "metadata": {},
     "output_type": "execute_result"
    }
   ],
   "source": [
    "random.random()"
   ]
  },
  {
   "cell_type": "code",
   "execution_count": 6,
   "id": "b8c046b9",
   "metadata": {},
   "outputs": [
    {
     "data": {
      "text/plain": [
       "-88.4271589756065"
      ]
     },
     "execution_count": 6,
     "metadata": {},
     "output_type": "execute_result"
    }
   ],
   "source": [
    "random_number = random.randint(-90,89) + random.random()\n",
    "\n",
    "random_number"
   ]
  },
  {
   "cell_type": "code",
   "execution_count": 8,
   "id": "490fb898",
   "metadata": {},
   "outputs": [
    {
     "data": {
      "text/plain": [
       "[46.03608731290964,\n",
       " -79.25932966827546,\n",
       " -62.38859613878378,\n",
       " -43.693164825392095,\n",
       " -21.73840933264648,\n",
       " -18.83237178505737,\n",
       " 31.893255816598877,\n",
       " 67.57654326845629,\n",
       " -7.284751337524455,\n",
       " -78.83838753519068]"
      ]
     },
     "execution_count": 8,
     "metadata": {},
     "output_type": "execute_result"
    }
   ],
   "source": [
    "x = 1\n",
    "\n",
    "latitudes = []\n",
    "\n",
    "while x < 11:\n",
    "    \n",
    "    random_lat = random.randint(-90,89) + random.random()\n",
    "    \n",
    "    latitudes.append(random_lat)\n",
    "    \n",
    "    x += 1\n",
    "    \n",
    "latitudes"
   ]
  },
  {
   "cell_type": "code",
   "execution_count": 9,
   "id": "653ad846",
   "metadata": {},
   "outputs": [
    {
     "data": {
      "text/plain": [
       "-42.37969810161567"
      ]
     },
     "execution_count": 9,
     "metadata": {},
     "output_type": "execute_result"
    }
   ],
   "source": [
    "random.uniform(-90,90)"
   ]
  },
  {
   "cell_type": "code",
   "execution_count": 10,
   "id": "453f008b",
   "metadata": {},
   "outputs": [],
   "source": [
    "# Import the NumPy module.\n",
    "\n",
    "import numpy as np"
   ]
  },
  {
   "cell_type": "code",
   "execution_count": 12,
   "id": "16a1cba9",
   "metadata": {},
   "outputs": [
    {
     "data": {
      "text/plain": [
       "5.859745119062865"
      ]
     },
     "execution_count": 12,
     "metadata": {},
     "output_type": "execute_result"
    }
   ],
   "source": [
    "np.random.uniform(-90.000, 90.000)"
   ]
  },
  {
   "cell_type": "code",
   "execution_count": 13,
   "id": "8fa1554a",
   "metadata": {},
   "outputs": [
    {
     "data": {
      "text/plain": [
       "array([ 68.81958381, -51.53077163, -70.83949935, -65.80455543,\n",
       "       -17.0872771 , -49.75963194, -33.44856645, -43.64966169,\n",
       "       -75.52944449,  27.73410272, -67.58412775,  88.05899484,\n",
       "       -35.43636852, -10.84414332,  19.8602428 , -44.08670192,\n",
       "       -38.88956683,  88.81069171, -62.74145373, -50.99239032,\n",
       "        -6.41712435,  66.02749515,  81.47755671, -17.52951752,\n",
       "        69.98755739,  58.3414741 ,  76.67126889, -57.68038965,\n",
       "        26.03657503, -76.55481672,  19.15685422, -27.41629691,\n",
       "        46.48735987, -83.40689226, -76.70112509,  66.79409114,\n",
       "        25.64786837, -85.55111615, -59.3900657 ,  23.65115521,\n",
       "       -15.22577883, -60.58161097,  21.75799083,  21.92408716,\n",
       "       -79.9725327 ,  37.88240473,  44.24844622,  -8.28316966,\n",
       "        78.97732658,   8.73392109])"
      ]
     },
     "execution_count": 13,
     "metadata": {},
     "output_type": "execute_result"
    }
   ],
   "source": [
    "np.random.uniform(-90.000, 90.000, size=50)"
   ]
  },
  {
   "cell_type": "code",
   "execution_count": 14,
   "id": "9225bc32",
   "metadata": {},
   "outputs": [],
   "source": [
    "# Import timeit.\n",
    "\n",
    "import timeit"
   ]
  },
  {
   "cell_type": "code",
   "execution_count": 15,
   "id": "b42563aa",
   "metadata": {},
   "outputs": [
    {
     "name": "stdout",
     "output_type": "stream",
     "text": [
      "17 µs ± 82.1 ns per loop (mean ± std. dev. of 7 runs, 100000 loops each)\n"
     ]
    }
   ],
   "source": [
    "%timeit np.random.uniform(-90.000, 90.000, size=1500)"
   ]
  },
  {
   "cell_type": "code",
   "execution_count": 16,
   "id": "e40a2dd3",
   "metadata": {},
   "outputs": [
    {
     "name": "stdout",
     "output_type": "stream",
     "text": [
      "1.24 ms ± 4.41 µs per loop (mean ± std. dev. of 7 runs, 1000 loops each)\n"
     ]
    }
   ],
   "source": [
    "def latitudes(size):\n",
    "    latitudes = []\n",
    "    x = 0\n",
    "    while x < (size):\n",
    "        random_lat = random.randint(-90, 90) + random.random()\n",
    "        latitudes.append(random_lat)\n",
    "        x += 1\n",
    "    return latitudes\n",
    "# Call the function with 1500.\n",
    "%timeit latitudes(1500)"
   ]
  },
  {
   "cell_type": "code",
   "execution_count": null,
   "id": "db505cc0",
   "metadata": {},
   "outputs": [],
   "source": []
  }
 ],
 "metadata": {
  "kernelspec": {
   "display_name": "PythonData",
   "language": "python",
   "name": "pythondata"
  },
  "language_info": {
   "codemirror_mode": {
    "name": "ipython",
    "version": 3
   },
   "file_extension": ".py",
   "mimetype": "text/x-python",
   "name": "python",
   "nbconvert_exporter": "python",
   "pygments_lexer": "ipython3",
   "version": "3.9.13"
  }
 },
 "nbformat": 4,
 "nbformat_minor": 5
}
